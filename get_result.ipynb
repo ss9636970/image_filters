{
 "cells": [
  {
   "cell_type": "code",
   "execution_count": 1,
   "id": "4714aa27",
   "metadata": {},
   "outputs": [
    {
     "name": "stdout",
     "output_type": "stream",
     "text": [
      "hii\n"
     ]
    }
   ],
   "source": [
    "import utils\n",
    "from PIL import Image\n",
    "import numpy as np\n",
    "import os\n",
    "import importlib\n",
    "import time\n",
    "import matplotlib.pyplot as plt"
   ]
  },
  {
   "cell_type": "code",
   "execution_count": 2,
   "id": "c5283c6a",
   "metadata": {},
   "outputs": [],
   "source": [
    "def loadpic():\n",
    "    files = []\n",
    "    ups = []\n",
    "    downs = []\n",
    "    tests = os.listdir('./data/test/')\n",
    "    for i in tests:\n",
    "        files.append('./data/test/' + i)\n",
    "    return files"
   ]
  },
  {
   "cell_type": "code",
   "execution_count": 3,
   "id": "9577efe0",
   "metadata": {},
   "outputs": [],
   "source": [
    "files = loadpic()"
   ]
  },
  {
   "cell_type": "code",
   "execution_count": 4,
   "id": "88c4e4b8",
   "metadata": {},
   "outputs": [
    {
     "data": {
      "text/plain": [
       "array(['./data/test/baboon.png', './data/test/baboon_down.png',\n",
       "       './data/test/baboon_up.png', './data/test/F16.png',\n",
       "       './data/test/F16_down.png', './data/test/F16_up.png',\n",
       "       './data/test/flower.png', './data/test/flower_down.png',\n",
       "       './data/test/flower_up.png', './data/test/lena.png',\n",
       "       './data/test/lena_down.png', './data/test/lena_up.png',\n",
       "       './data/test/Noisy.png', './data/test/peppers.png',\n",
       "       './data/test/peppers_down.png', './data/test/peppers_up.png'],\n",
       "      dtype='<U28')"
      ]
     },
     "execution_count": 4,
     "metadata": {},
     "output_type": "execute_result"
    }
   ],
   "source": [
    "files = np.array(files)\n",
    "files"
   ]
  },
  {
   "cell_type": "code",
   "execution_count": 5,
   "id": "76c56ab5",
   "metadata": {},
   "outputs": [
    {
     "data": {
      "text/plain": [
       "(array(['./data/test/baboon_up.png', './data/test/F16_up.png',\n",
       "        './data/test/lena_up.png'], dtype='<U28'),\n",
       " array(['./data/test/baboon_down.png', './data/test/F16_down.png',\n",
       "        './data/test/lena_down.png'], dtype='<U28'),\n",
       " array(['./data/test/baboon.png', './data/test/F16.png',\n",
       "        './data/test/lena.png'], dtype='<U28'))"
      ]
     },
     "execution_count": 5,
     "metadata": {},
     "output_type": "execute_result"
    }
   ],
   "source": [
    "ups = files[[2, 5, 11]]\n",
    "downs = files[[1, 4, 10]]\n",
    "oris = files[[0, 3, 9]]\n",
    "ups, downs, oris"
   ]
  },
  {
   "cell_type": "markdown",
   "id": "c2a580ab",
   "metadata": {},
   "source": [
    "# P1"
   ]
  },
  {
   "cell_type": "code",
   "execution_count": 108,
   "id": "dfc8fac8",
   "metadata": {},
   "outputs": [],
   "source": [
    "def p1(file):\n",
    "    filters = utils.Pic_Filters()\n",
    "    imgs = []\n",
    "    for i in file:\n",
    "        img = Image.open(i)\n",
    "        imgs.append(np.array(img))\n",
    "    \n",
    "    hisbefore = []\n",
    "    hisafter = []\n",
    "    results = []\n",
    "    for inputs in imgs:\n",
    "        t = filters.global_histogram_equalization(inputs)\n",
    "        results.append(t[0])\n",
    "        hisbefore.append(t[1])\n",
    "        hisafter.append(t[2])\n",
    "    \n",
    "    return results, hisbefore, hisafter\n",
    "\n",
    "def p2(file):\n",
    "    filters = utils.Pic_Filters()\n",
    "    imgs = []\n",
    "    for i in file:\n",
    "        img = Image.open(i)\n",
    "        imgs.append(np.array(img))\n",
    "    \n",
    "    imgArray = Image.open('./data/test/flower.png')\n",
    "    imgArray = np.array(imgArray)\n",
    "    \n",
    "    his = []\n",
    "    for inputs in imgs:\n",
    "        t = filters.histogram_matching(inputs, imgArray)\n",
    "        t = filters.extract_histogram(t)\n",
    "        his.append(t)\n",
    "    \n",
    "    return his"
   ]
  },
  {
   "cell_type": "code",
   "execution_count": 103,
   "id": "f7437814",
   "metadata": {},
   "outputs": [],
   "source": [
    "results, hisbefore, hisafter = p1(downs)"
   ]
  },
  {
   "cell_type": "code",
   "execution_count": 112,
   "id": "aa3e0946",
   "metadata": {},
   "outputs": [],
   "source": [
    "his = p2(oris)"
   ]
  },
  {
   "cell_type": "code",
   "execution_count": 77,
   "id": "bba15e8e",
   "metadata": {},
   "outputs": [],
   "source": [
    "Image.fromarray(results[2]).save('./data/result/problem1/lena_down.png')"
   ]
  },
  {
   "cell_type": "code",
   "execution_count": 113,
   "id": "66ef98f8",
   "metadata": {},
   "outputs": [],
   "source": [
    "def hismake(inputs):\n",
    "    fig, axs = plt.subplots(1, 3, figsize=(30, 10))\n",
    "    for m, c in enumerate(inputs):\n",
    "        data = []\n",
    "        for i in range(len(c)):\n",
    "            a = [i] * c[i]\n",
    "            data = data + a\n",
    "            \n",
    "        ax = axs[m]\n",
    "        n, bins, patches = ax.hist(data, bins='auto')\n",
    "        ax.set_xlabel(\"pixel Values\")\n",
    "        ax.set_ylabel(\"Frequency\")\n",
    "        ax.set_xlim([0, 255])\n",
    "    fig.tight_layout()\n",
    "    return fig"
   ]
  },
  {
   "cell_type": "code",
   "execution_count": 114,
   "id": "9810af01",
   "metadata": {},
   "outputs": [
    {
     "data": {
      "image/png": "[encoded data removed]",
      "text/plain": [
       "<Figure size 2160x720 with 3 Axes>"
      ]
     },
     "metadata": {
      "needs_background": "light"
     },
     "output_type": "display_data"
    }
   ],
   "source": [
    "f = hismake(his)\n",
    "f.savefig('./data/result/problem1/his_match.png')"
   ]
  },
  {
   "cell_type": "markdown",
   "id": "b3bf7ead",
   "metadata": {},
   "source": [
    "# P2"
   ]
  },
  {
   "cell_type": "code",
   "execution_count": 22,
   "id": "e7d0eec8",
   "metadata": {},
   "outputs": [
    {
     "name": "stdout",
     "output_type": "stream",
     "text": [
      "hii\n"
     ]
    }
   ],
   "source": [
    "importlib.reload(utils)\n",
    "filters = utils.Pic_Filters()\n",
    "ks = [3, 5, 7, 33]\n",
    "\n",
    "inputs = oris\n",
    "for p in oris:\n",
    "    img = Image.open(p)\n",
    "    img = np.array(img)\n",
    "    name = p.split('/')[-1].split('.')[0]\n",
    "    \n",
    "    for k in ks:\n",
    "        F = filters.average_filter(k)\n",
    "        outputs = filters.conv(F, img)\n",
    "        Image.fromarray(outputs.astype('uint8')).save('./data/result/problem2/average/{}_K{}.png'.format(name, str(k)))\n",
    "#         break"
   ]
  },
  {
   "cell_type": "code",
   "execution_count": 10,
   "id": "bf1687f6",
   "metadata": {},
   "outputs": [
    {
     "data": {
      "text/plain": [
       "array([[-336., -167., -172., ..., -180., -173., -253.],\n",
       "       [-168.,    1.,   -3., ...,   -8.,  -12., -115.],\n",
       "       [-168.,    1.,   -3., ...,   -8.,  -12., -115.],\n",
       "       ...,\n",
       "       [ -60.,    4.,   -1., ...,   -5.,    8., -116.],\n",
       "       [ -58.,   10.,  -15., ...,   -1.,   -5., -134.],\n",
       "       [-118.,  -50.,  -79., ..., -119., -120., -251.]])"
      ]
     },
     "execution_count": 10,
     "metadata": {},
     "output_type": "execute_result"
    }
   ],
   "source": [
    "outputs"
   ]
  },
  {
   "cell_type": "markdown",
   "id": "83b13cb4",
   "metadata": {},
   "source": [
    "# p3"
   ]
  },
  {
   "cell_type": "code",
   "execution_count": 23,
   "id": "cc38ee85",
   "metadata": {},
   "outputs": [],
   "source": [
    "filters = utils.Pic_Filters()\n",
    "nums = [1, 2]\n",
    "\n",
    "inputs = oris\n",
    "for p in oris:\n",
    "    img = Image.open(p)\n",
    "    img = np.array(img)\n",
    "    name = p.split('/')[-1].split('.')[0]\n",
    "    \n",
    "    for num in nums:\n",
    "        F = filters.filterP3(num=num)\n",
    "        outputs = filters.conv(F, img)\n",
    "        Image.fromarray(outputs.astype('uint8')).save('./data/result/problem3/kernel{}/{}.png'.format(str(num), name))"
   ]
  },
  {
   "cell_type": "markdown",
   "id": "3f05256f",
   "metadata": {},
   "source": [
    "# P4"
   ]
  },
  {
   "cell_type": "code",
   "execution_count": 26,
   "id": "d33a5eca",
   "metadata": {},
   "outputs": [],
   "source": [
    "# filters = utils.Pic_Filters()\n",
    "\n",
    "# inputs = oris\n",
    "# for p in oris:\n",
    "#     img = Image.open(p)\n",
    "#     img = np.array(img)\n",
    "#     name = p.split('/')[-1].split('.')[0]\n",
    "#     outputs = filters.order_stat_filt(img, size=7, mode='median')\n",
    "#     Image.fromarray(outputs.astype('uint8')).save('./data/result/problem4/{}.png'.format(name))"
   ]
  },
  {
   "cell_type": "code",
   "execution_count": null,
   "id": "3101c0f1",
   "metadata": {},
   "outputs": [],
   "source": []
  },
  {
   "cell_type": "code",
   "execution_count": null,
   "id": "98c1d2fa",
   "metadata": {},
   "outputs": [],
   "source": []
  },
  {
   "cell_type": "code",
   "execution_count": null,
   "id": "360f0600",
   "metadata": {},
   "outputs": [],
   "source": []
  },
  {
   "cell_type": "code",
   "execution_count": null,
   "id": "52ff7364",
   "metadata": {},
   "outputs": [],
   "source": []
  }
 ],
 "metadata": {
  "kernelspec": {
   "display_name": "Python 3",
   "language": "python",
   "name": "python3"
  },
  "language_info": {
   "codemirror_mode": {
    "name": "ipython",
    "version": 3
   },
   "file_extension": ".py",
   "mimetype": "text/x-python",
   "name": "python",
   "nbconvert_exporter": "python",
   "pygments_lexer": "ipython3",
   "version": "3.8.8"
  }
 },
 "nbformat": 4,
 "nbformat_minor": 5
}
